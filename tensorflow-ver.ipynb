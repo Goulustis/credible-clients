{
 "cells": [
  {
   "cell_type": "code",
   "execution_count": 1,
   "metadata": {},
   "outputs": [
    {
     "name": "stderr",
     "output_type": "stream",
     "text": [
      "D:\\Users\\Jesus\\Anaconda3\\lib\\site-packages\\h5py\\__init__.py:34: FutureWarning: Conversion of the second argument of issubdtype from `float` to `np.floating` is deprecated. In future, it will be treated as `np.float64 == np.dtype(float).type`.\n",
      "  from ._conv import register_converters as _register_converters\n"
     ]
    }
   ],
   "source": [
    "import numpy as np\n",
    "import tensorflow as tf\n",
    "from sklearn.model_selection import train_test_split\n",
    "from sklearn.metrics import accuracy_score, precision_score, recall_score\n",
    "import math\n",
    "import numpy as np\n",
    "import h5py\n",
    "import matplotlib.pyplot as plt\n",
    "from tensorflow.python.framework import ops\n",
    "from tf_utils import load_dataset, random_mini_batches, convert_to_one_hot, predict\n",
    "\n",
    "import matplotlib.pyplot as plt\n",
    "data = np.loadtxt('data/credit-data.csv', dtype=np.int, delimiter=',', skiprows=1)\n",
    "X, y = data[:, 1:-1], data[:, -1]\n",
    "X_train, X_test, y_train, y_test = train_test_split(X, y, random_state=42)"
   ]
  },
  {
   "cell_type": "code",
   "execution_count": 61,
   "metadata": {},
   "outputs": [
    {
     "data": {
      "text/plain": [
       "'\\nnormalize the money , too big\\nchange shape of y_train,y_test, maintain consistency shape of (T/F, num_example)\\n'"
      ]
     },
     "execution_count": 61,
     "metadata": {},
     "output_type": "execute_result"
    }
   ],
   "source": [
    "\"\"\"\n",
    "normalize the money , too big\n",
    "change shape of y_train,y_test, maintain consistency shape of (num_category, num_example)\n",
    "\"\"\""
   ]
  },
  {
   "cell_type": "code",
   "execution_count": 2,
   "metadata": {
    "collapsed": true
   },
   "outputs": [],
   "source": [
    "#accustumed to working with dim: (num_features, num_examples)\n",
    "y_train = y_train.reshape(-1,1).T\n",
    "y_test = y_test.reshape(-1,1).T\n",
    "\n",
    "X_train = X_train.T\n",
    "X_test = X_test.T"
   ]
  },
  {
   "cell_type": "code",
   "execution_count": 18,
   "metadata": {
    "collapsed": true
   },
   "outputs": [],
   "source": [
    "#layer_dims: array of int of dim [dim_(i-1), dim_i ....]\n",
    "def init_params(layer_dims):\n",
    "    parameters = {}\n",
    "    for i in range(1, len(layer_dims)):\n",
    "        W = tf.get_variable(\"W\" + str(i), [layer_dims[i],layer_dims[i-1]], initializer = tf.contrib.layers.xavier_initializer())\n",
    "        b = tf.get_variable(\"b\" + str(i), [layer_dims[i],1], initializer = tf.contrib.layers.xavier_initializer())\n",
    "        \n",
    "        parameters[\"W\" + str(i) ] =  W\n",
    "        parameters[\"b\" + str(i) ] =  b                       \n",
    "    return parameters\n",
    "    "
   ]
  },
  {
   "cell_type": "code",
   "execution_count": 19,
   "metadata": {
    "collapsed": true
   },
   "outputs": [],
   "source": [
    "def create_placeholder(nx,ny):\n",
    "    X = tf.placeholder(tf.float32, shape = (nx,None), name = \"X\")\n",
    "    Y = tf.placeholder(tf.float32, shape = (ny, None), name = \"Y\")\n",
    "    \n",
    "    return X,Y"
   ]
  },
  {
   "cell_type": "code",
   "execution_count": 30,
   "metadata": {},
   "outputs": [
    {
     "name": "stdout",
     "output_type": "stream",
     "text": [
      "W1 = <tf.Variable 'W1:0' shape=(25, 12288) dtype=float32_ref>\n",
      "b1 = <tf.Variable 'b1:0' shape=(25, 1) dtype=float32_ref>\n",
      "W2 = <tf.Variable 'W2:0' shape=(12, 25) dtype=float32_ref>\n",
      "b2 = <tf.Variable 'b2:0' shape=(12, 1) dtype=float32_ref>\n",
      "W3 = <tf.Variable 'W3:0' shape=(6, 12) dtype=float32_ref>\n",
      "b3 = <tf.Variable 'b3:0' shape=(6, 1) dtype=float32_ref>\n"
     ]
    }
   ],
   "source": [
    "tf.reset_default_graph()\n",
    "\n",
    "with tf.Session() as sess:\n",
    "\n",
    "    params = parameters = init_params([12288,25,12,6])\n",
    "    \n",
    "    for key,val in params.items():\n",
    "        print(\"{} = {}\".format(key, val))\n"
   ]
  },
  {
   "cell_type": "code",
   "execution_count": 178,
   "metadata": {
    "collapsed": true
   },
   "outputs": [],
   "source": [
    "def forward_prop(X,params):\n",
    "    Z = tf.add(tf.matmul(params[\"W1\"],X), params[\"b1\"])\n",
    "    A = tf.nn.relu(Z)\n",
    "    \n",
    "    for i in range(2, len(params)//2+1):\n",
    "        Z = tf.add(tf.matmul(params[\"W\" + str(i)], A), params[\"b\" + str(i)])\n",
    "        A = tf.nn.sigmoid(Z)\n",
    "    \n",
    "    return Z"
   ]
  },
  {
   "cell_type": "code",
   "execution_count": 8,
   "metadata": {},
   "outputs": [
    {
     "name": "stdout",
     "output_type": "stream",
     "text": [
      "Z = Tensor(\"Add_2:0\", shape=(6, ?), dtype=float32)\n"
     ]
    }
   ],
   "source": [
    "tf.reset_default_graph()\n",
    "with tf.Session() as sess:\n",
    "    X = tf.placeholder(tf.float32, shape = [12288, None], name = \"X\")\n",
    "    Y = tf.placeholder(tf.float32, shape = [6, None], name = \"X\")\n",
    "    parameters = init_params([12288,25,12,6])\n",
    "    Z = forward_prop(X,parameters)\n",
    "    print(\"Z = \" + str(Z))"
   ]
  },
  {
   "cell_type": "code",
   "execution_count": 64,
   "metadata": {
    "collapsed": true
   },
   "outputs": [],
   "source": [
    "def calc_cost(out,Y):\n",
    "    labels = tf.transpose(Y)\n",
    "    logits = tf.transpose(out)\n",
    "    \n",
    "    #labels = Y\n",
    "    #logits = out\n",
    "\n",
    "    cost = tf.reduce_mean(tf.nn.sigmoid_cross_entropy_with_logits(logits = logits, labels = labels))\n",
    "    \n",
    "    return cost"
   ]
  },
  {
   "cell_type": "code",
   "execution_count": 10,
   "metadata": {},
   "outputs": [
    {
     "name": "stdout",
     "output_type": "stream",
     "text": [
      "WARNING:tensorflow:From <ipython-input-9-991ebe956de1>:5: softmax_cross_entropy_with_logits (from tensorflow.python.ops.nn_ops) is deprecated and will be removed in a future version.\n",
      "Instructions for updating:\n",
      "\n",
      "Future major versions of TensorFlow will allow gradients to flow\n",
      "into the labels input on backprop by default.\n",
      "\n",
      "See `tf.nn.softmax_cross_entropy_with_logits_v2`.\n",
      "\n",
      "Tensor(\"Mean:0\", shape=(), dtype=float32)\n"
     ]
    }
   ],
   "source": [
    "tf.reset_default_graph()\n",
    "\n",
    "with tf.Session() as sess:\n",
    "    X = tf.placeholder(tf.float32, shape = [12288, None], name = \"X\")\n",
    "    Y = tf.placeholder(tf.float32, shape = [6, None], name = \"X\")\n",
    "    params = parameters = init_params([12288,25,12,6])\n",
    "    out = forward_prop(X,params)\n",
    "    cost = calc_cost(out,Y)\n",
    "    print(cost)"
   ]
  },
  {
   "cell_type": "code",
   "execution_count": 35,
   "metadata": {
    "collapsed": true
   },
   "outputs": [],
   "source": [
    "#Yshape: (num category , num example)\n",
    "def rand_mini_batches(X,Y, size = 64):\n",
    "    m = X.shape[1]\n",
    "    mini_batches = []\n",
    "    \n",
    "    perm = list(np.random.permutation(m))\n",
    "    shuffX = X[:,perm]\n",
    "    shuffY = Y[:,perm].reshape((Y.shape[0],m))\n",
    "    \n",
    "    num_complete_batch = m//size\n",
    "    \n",
    "    for i in range(0,num_complete_batch):\n",
    "        minX = shuffX[:,i * size : i * size + size]\n",
    "        minY = shuffY[:,i * size : i * size + size]\n",
    "        minBatch = (minX,minY)\n",
    "        \n",
    "        mini_batches.append(minBatch)\n",
    "    \n",
    "    if(m%size !=0):\n",
    "        minX = shuffX[:, num_complete_batch * size : m]\n",
    "        minY = shuffY[:, num_complete_batch * size : m]\n",
    "        minBatch = (minX,minY)\n",
    "        \n",
    "        mini_batches.append(minBatch)\n",
    "        \n",
    "    return mini_batches\n",
    "        "
   ]
  },
  {
   "cell_type": "code",
   "execution_count": 146,
   "metadata": {
    "collapsed": true
   },
   "outputs": [],
   "source": [
    "def model(X_train, Y_train,X_test,Y_test, layer_dims, learning_rate = 0.0001, num_epochs = 1500, minibatch_size = 32,print_cost = True):\n",
    "    \n",
    "    ops.reset_default_graph()\n",
    "    (nx, m) = X_train.shape\n",
    "    ny = Y_train.shape[0]\n",
    "    costs = []\n",
    "\n",
    "    \n",
    "    X,Y = create_placeholder(nx,ny)\n",
    "    params = init_params(layer_dims)\n",
    "    \n",
    "    #forward propagate the thing\n",
    "    out = forward_prop(X, params)\n",
    "    \n",
    "    cost = calc_cost(out,Y)\n",
    "    \n",
    "    optimizer = tf.train.AdamOptimizer(learning_rate = learning_rate).minimize(cost)\n",
    "    \n",
    "    init = tf.global_variables_initializer()\n",
    "    \n",
    "    with tf.Session() as sess:\n",
    "        \n",
    "        sess.run(init)\n",
    "        \n",
    "        for epoch in range(num_epochs):\n",
    "            \n",
    "            epoch_cost = 0\n",
    "            \n",
    "            num_minbatch = int(m/minibatch_size)\n",
    "            \n",
    "            minibatches = rand_mini_batches(X_train,Y_train, num_minbatch)\n",
    "            \n",
    "            for minibatch in minibatches:\n",
    "                \n",
    "                (minX,minY) = minibatch\n",
    "                \n",
    "                _, minBatchCost = sess.run([optimizer,cost], feed_dict = {X:minX, Y:minY})\n",
    "                \n",
    "                epoch_cost += minBatchCost / num_minbatch \n",
    "                \n",
    "            \n",
    "            if print_cost == True and epoch % 100 == 0:\n",
    "                print(\"Cost after epoch %i: %f\" % (epoch, epoch_cost))\n",
    "            \n",
    "            if print_cost == True and epoch % 5 == 0:\n",
    "                costs.append(epoch_cost)\n",
    "            \n",
    "        \n",
    "        plt.plot(np.squeeze(costs))\n",
    "        plt.ylabel(\"cost\")\n",
    "        plt.xlabel(\"iterations (per tens)\")\n",
    "        plt.title(\"learning rate = \" + str(learning_rate))\n",
    "        plt.show()\n",
    "        \n",
    "        params = sess.run(params)\n",
    "        \n",
    "        \"\"\" \n",
    "        correct = tf.equal(tf.round(out), Y)\n",
    "        \n",
    "        accuracy = tf.reduce_mean(tf.cast(correct,\"float\"))\n",
    "        \n",
    "        print(\"train accuracy: \" , accuracy.eval({X:X_train, Y: Y_train}))\n",
    "        print(\"test accuracy: \" , accuracy.eval({X:X_test, Y: Y_test}))\n",
    "        \n",
    "        out = sess.run(out, feed_dict = {X: X_train})\n",
    "        \"\"\"\n",
    "        return params, out"
   ]
  },
  {
   "cell_type": "code",
   "execution_count": 179,
   "metadata": {
    "collapsed": true
   },
   "outputs": [],
   "source": [
    "numuse = X_train.shape[1]\n",
    "\n",
    "X_use = X_train[:, 0:numuse]\n",
    "Y_use = y_train[:, 0:numuse]\n"
   ]
  },
  {
   "cell_type": "code",
   "execution_count": 180,
   "metadata": {},
   "outputs": [
    {
     "name": "stdout",
     "output_type": "stream",
     "text": [
      "Cost after epoch 0: 0.043678\n",
      "Cost after epoch 100: 0.024920\n",
      "Cost after epoch 200: 0.024791\n",
      "Cost after epoch 300: 0.024628\n",
      "Cost after epoch 400: 0.024949\n",
      "Cost after epoch 500: 0.023964\n",
      "Cost after epoch 600: 0.024254\n",
      "Cost after epoch 700: 0.024232\n",
      "Cost after epoch 800: 0.024179\n",
      "Cost after epoch 900: 0.025011\n",
      "Cost after epoch 1000: 0.023890\n",
      "Cost after epoch 1100: 0.023873\n",
      "Cost after epoch 1200: 0.024227\n",
      "Cost after epoch 1300: 0.024829\n",
      "Cost after epoch 1400: 0.024186\n"
     ]
    },
    {
     "data": {
      "image/png": "[encoded data removed]",
      "text/plain": [
       "<Figure size 432x288 with 1 Axes>"
      ]
     },
     "metadata": {},
     "output_type": "display_data"
    },
    {
     "name": "stdout",
     "output_type": "stream",
     "text": [
      "train accuracy:  0.060355555\n",
      "test accuracy:  0.0636\n"
     ]
    }
   ],
   "source": [
    "layer_dims = [X_train.shape[0],18,10,1]\n",
    "params, out1 = model(X_use,Y_use, X_test,y_test,layer_dims)"
   ]
  },
  {
   "cell_type": "code",
   "execution_count": 181,
   "metadata": {
    "collapsed": true
   },
   "outputs": [],
   "source": [
    "def check(params, X):\n",
    "    Z = np.add(np.matmul(params[\"W1\"],X), params[\"b1\"])\n",
    "    A = np.maximum(0,Z)\n",
    "    for i in range(2, len(params)//2 + 1):\n",
    "        Z = np.add(np.matmul(params[\"W\" + str(i)], A), params[\"b\" + str(i)])\n",
    "        A = np.maximum(0,Z)\n",
    "   \n",
    "    return A"
   ]
  },
  {
   "cell_type": "code",
   "execution_count": 182,
   "metadata": {},
   "outputs": [
    {
     "data": {
      "text/plain": [
       "0.7830666666666667"
      ]
     },
     "execution_count": 182,
     "metadata": {},
     "output_type": "execute_result"
    }
   ],
   "source": [
    "out2 = check(params, X_test)\n",
    "ans = out2 == y_test\n",
    "n = np.sum(ans)\n",
    "n/7500"
   ]
  },
  {
   "cell_type": "code",
   "execution_count": 183,
   "metadata": {},
   "outputs": [
    {
     "name": "stdout",
     "output_type": "stream",
     "text": [
      "done\n"
     ]
    }
   ],
   "source": [
    "for i in range(7500):\n",
    "    if(out2[0,i] != 0):\n",
    "        print(i)\n",
    "    \n",
    "print(\"done\")"
   ]
  },
  {
   "cell_type": "code",
   "execution_count": 175,
   "metadata": {},
   "outputs": [
    {
     "data": {
      "text/plain": [
       "952.3901647188659"
      ]
     },
     "execution_count": 175,
     "metadata": {},
     "output_type": "execute_result"
    }
   ],
   "source": [
    "out2[0,2899]"
   ]
  },
  {
   "cell_type": "code",
   "execution_count": 184,
   "metadata": {
    "collapsed": true
   },
   "outputs": [],
   "source": [
    "p = np.sum(y_train)"
   ]
  },
  {
   "cell_type": "code",
   "execution_count": 185,
   "metadata": {},
   "outputs": [
    {
     "data": {
      "text/plain": [
       "5009"
      ]
     },
     "execution_count": 185,
     "metadata": {},
     "output_type": "execute_result"
    }
   ],
   "source": [
    "p"
   ]
  },
  {
   "cell_type": "code",
   "execution_count": null,
   "metadata": {
    "collapsed": true
   },
   "outputs": [],
   "source": []
  }
 ],
 "metadata": {
  "kernelspec": {
   "display_name": "Python 3",
   "language": "python",
   "name": "python3"
  },
  "language_info": {
   "codemirror_mode": {
    "name": "ipython",
    "version": 3
   },
   "file_extension": ".py",
   "mimetype": "text/x-python",
   "name": "python",
   "nbconvert_exporter": "python",
   "pygments_lexer": "ipython3",
   "version": "3.6.3"
  }
 },
 "nbformat": 4,
 "nbformat_minor": 2
}
