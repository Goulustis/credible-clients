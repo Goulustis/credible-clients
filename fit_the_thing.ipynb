{
 "cells": [
  {
   "cell_type": "code",
   "execution_count": 288,
   "metadata": {
    "collapsed": true
   },
   "outputs": [],
   "source": [
    "import numpy as np\n",
    "from sklearn.model_selection import train_test_split\n",
    "from sklearn.metrics import accuracy_score, precision_score, recall_score\n",
    "\n",
    "from model import CreditModel\n",
    "\n",
    "import matplotlib.pyplot as plt\n",
    "data = np.loadtxt('data/credit-data.csv', dtype=np.int, delimiter=',', skiprows=1)\n",
    "X, y = data[:, 1:-1], data[:, -1]\n",
    "X_train, X_test, y_train, y_test = train_test_split(X, y, random_state=42)"
   ]
  },
  {
   "cell_type": "code",
   "execution_count": 250,
   "metadata": {
    "collapsed": true
   },
   "outputs": [],
   "source": [
    "def sigmoid(Z):\n",
    "    \"\"\"\n",
    "    Arguements:\n",
    "        Z -- input for activation\n",
    "    \n",
    "    returns:\n",
    "        A -- result of activation function\n",
    "        cache -- store Z for back prop\n",
    "    \"\"\"\n",
    "    A = 1/(1+np.exp(-Z))\n",
    "    cache = Z\n",
    "    \n",
    "    return A,cache"
   ]
  },
  {
   "cell_type": "code",
   "execution_count": 251,
   "metadata": {
    "collapsed": true
   },
   "outputs": [],
   "source": [
    "def sigmoid_back(dA, cache):\n",
    "    Z = cache\n",
    "    \n",
    "    s = 1/(1+np.exp(-Z))\n",
    "    dZ = dA*s*(1-s)\n",
    "    \n",
    "    return dZ"
   ]
  },
  {
   "cell_type": "code",
   "execution_count": 252,
   "metadata": {
    "collapsed": true
   },
   "outputs": [],
   "source": [
    "def relu(Z):\n",
    "    \"\"\"\n",
    "    Arguements:\n",
    "        Z -- input for activation\n",
    "    \n",
    "    returns:\n",
    "        A -- result of activation function\n",
    "        cache -- store Z for back prop\n",
    "    \"\"\"\n",
    "    \n",
    "    A = np.maximum(0,Z)\n",
    "    \n",
    "    cache = Z\n",
    "    \n",
    "    return A , cache"
   ]
  },
  {
   "cell_type": "code",
   "execution_count": 253,
   "metadata": {
    "collapsed": true
   },
   "outputs": [],
   "source": [
    "def relu_back(dA, cache):\n",
    "    Z = cache\n",
    "    dZ = np.array(dA, copy=True)\n",
    "    dZ[Z <= 0] = 0\n",
    "    \n",
    "    return dZ"
   ]
  },
  {
   "cell_type": "code",
   "execution_count": 272,
   "metadata": {
    "collapsed": true
   },
   "outputs": [],
   "source": [
    "def init_params(layerdims):\n",
    "    \"\"\"\n",
    "    Arguements:\n",
    "    layerdims = python array of dimension of each layer of network\n",
    "    \n",
    "    returns:\n",
    "    params = python dictionary with: \"W1\", \"b2\"\n",
    "        W1 -- weight matrix of shape (layer_dims[1], layer_dims[l-1])\n",
    "        bl -- bias vector of shape (layer_dims[l], 1)\n",
    "\n",
    "    \"\"\"\n",
    "    params = {}\n",
    "    L = len(layerdims)\n",
    "    \n",
    "    for l in range (1,L):\n",
    "        params[\"W\" + str(l)] = np.random.randn(layerdims[l], layerdims[l-1]) * 0.01\n",
    "        params[\"b\" + str(l)] = np.zeros((layerdims[l],1))\n",
    "    \n",
    "    return params"
   ]
  },
  {
   "cell_type": "code",
   "execution_count": 256,
   "metadata": {
    "collapsed": true
   },
   "outputs": [],
   "source": [
    "def linear_prop(A, W, b):\n",
    "    \"\"\"\n",
    "    Arguement:\n",
    "        A is activation from previous layer\n",
    "        W is weight of current layer\n",
    "        b is bias vector of current layer\n",
    "        \n",
    "   returns:\n",
    "       Z -- the activation input\n",
    "       cache -- stored A,W,b for better computation later   \n",
    "    \"\"\"\n",
    "    \n",
    "    Z = np.dot(W, A) + b\n",
    "    assert(Z.shape == (W.shape[0], A.shape[1]))    \n",
    "    cache = (A,W,b)\n",
    "    \n",
    "    return Z, cache"
   ]
  },
  {
   "cell_type": "code",
   "execution_count": 258,
   "metadata": {
    "collapsed": true
   },
   "outputs": [],
   "source": [
    "def linear_act_forward(A_prev, W,b, act):\n",
    "    \"\"\"\n",
    "    Arguement:\n",
    "        A_prev -- activation from previous layer\n",
    "        W -- weights of current layer\n",
    "        b -- bias vector of current layer\n",
    "        act -- activation choice for layer\n",
    "    \n",
    "    return:\n",
    "        A -- activation of current layer\n",
    "        cache -- dictionary with lin_cache and act_cache\n",
    "    \"\"\"\n",
    "    if act == \"relu\":\n",
    "        Z, lin_cache = linear_prop(A_prev, W, b)\n",
    "        A, act_cache = relu(Z)\n",
    "    \n",
    "    elif act == \"sigmoid\":\n",
    "        Z, lin_cache = linear_prop(A_prev,W,b)\n",
    "        A, act_cache = sigmoid(Z)\n",
    "    assert(Z.shape == (W.shape[0], A.shape[1]))    \n",
    "    \n",
    "    cache = (lin_cache, act_cache)\n",
    "    \n",
    "    return A, cache\n",
    "    "
   ]
  },
  {
   "cell_type": "code",
   "execution_count": 259,
   "metadata": {
    "collapsed": true
   },
   "outputs": [],
   "source": [
    "def compute_forward(X,params):\n",
    "    \"\"\"\n",
    "    Arguement:\n",
    "        X -- data\n",
    "        params -- initialized params\n",
    "    return:\n",
    "        AL -- last activation values\n",
    "        caches -- all activation values (there is L-1 of them)   \n",
    "    \"\"\"\n",
    "    caches = []\n",
    "    L = len(params)//2   # number of layers\n",
    "    A = X\n",
    "    \n",
    "    for l in range(1,L):\n",
    "        prev_A = A\n",
    "        A, cache = linear_act_forward(prev_A, params[\"W\" + str(l)],params[\"b\" + str(l)], \"relu\")\n",
    "        caches.append(cache)\n",
    "\n",
    "    AL, cache = linear_act_forward(A, params[\"W\" + str(L)], params[\"b\"+str(L)], \"sigmoid\")\n",
    "    caches.append(cache)\n",
    "    \n",
    "\n",
    "    return AL, caches\n",
    "    "
   ]
  },
  {
   "cell_type": "code",
   "execution_count": 260,
   "metadata": {
    "collapsed": true
   },
   "outputs": [],
   "source": [
    "def cost(AL, Y):\n",
    "    \"\"\"\n",
    "    Implement the cost function defined by equation (7).\n",
    "\n",
    "    Arguments:\n",
    "    AL -- probability vector corresponding to your label predictions, shape (1, number of examples)\n",
    "    Y -- true \"label\" vector (for example: containing 0 if non-cat, 1 if cat), shape (1, number of examples)\n",
    "\n",
    "    Returns:\n",
    "    cost -- cross-entropy cost\n",
    "    \"\"\"\n",
    "    \n",
    "    m = Y.shape[1]\n",
    "\n",
    "\n",
    "    cost = (-1/m)*np.sum(np.multiply(Y, np.log(AL)) + np.multiply((1-Y), np.log(1-AL)))\n",
    "\n",
    "    \n",
    "    cost.shape\n",
    "    cost = np.squeeze(cost)      \n",
    "    assert(cost.shape == ())\n",
    "    \n",
    "    return cost"
   ]
  },
  {
   "cell_type": "code",
   "execution_count": 261,
   "metadata": {},
   "outputs": [
    {
     "data": {
      "text/plain": [
       "0.41493159961539694"
      ]
     },
     "execution_count": 261,
     "metadata": {},
     "output_type": "execute_result"
    }
   ],
   "source": [
    "    Y = np.asarray([[1, 1, 1]])\n",
    "    aL = np.array([[.8,.9,0.4]])\n",
    "    cost(aL, Y)"
   ]
  },
  {
   "cell_type": "code",
   "execution_count": 262,
   "metadata": {
    "collapsed": true
   },
   "outputs": [],
   "source": [
    "def lin_back(dZ, cache):\n",
    "    A_prev, W, b = cache\n",
    "    m = A_prev.shape[1]\n",
    "    \n",
    "    dW = (1/m)*np.dot(dZ, A_prev.T)\n",
    "    db = (1/m)*np.sum(dZ, keepdims = True)\n",
    "    dA_prev = np.dot(W.T,dZ)\n",
    "    \n",
    "    return dA_prev, dW, db"
   ]
  },
  {
   "cell_type": "code",
   "execution_count": 264,
   "metadata": {
    "collapsed": true
   },
   "outputs": [],
   "source": [
    "def act_back(dA, cache, act):\n",
    "    linear_cache, activation_cache = cache\n",
    "    \n",
    "    if act == \"relu\":\n",
    "        ### START CODE HERE ### (≈ 2 lines of code)\n",
    "        dZ = relu_back(dA, activation_cache)\n",
    "        dA_prev, dW, db = lin_back(dZ, linear_cache)\n",
    "        ### END CODE HERE ###\n",
    "        \n",
    "    elif act == \"sigmoid\":\n",
    "        ### START CODE HERE ### (≈ 2 lines of code)\n",
    "        dZ = sigmoid_back(dA, activation_cache)\n",
    "        dA_prev, dW, db = lin_back(dZ, linear_cache)\n",
    "        ### END CODE HERE ###\n",
    "    \n",
    "    return dA_prev, dW, db"
   ]
  },
  {
   "cell_type": "code",
   "execution_count": 265,
   "metadata": {
    "collapsed": true
   },
   "outputs": [],
   "source": [
    "def nn_back(AL,Y,caches):\n",
    "    grads = {}\n",
    "    L = len(caches) # the number of layers\n",
    "    m = AL.shape[1]\n",
    "    Y = Y.reshape(AL.shape) # after this line, Y is the same shape as AL\n",
    "    \n",
    "    # Initializing the backpropagation\n",
    "    ### START CODE HERE ### (1 line of code)\n",
    "    dAL = np.divide(-Y,AL) + np.divide((1-Y),1-AL)\n",
    "    ### END CODE HERE ###\n",
    "\n",
    "    # Lth layer (SIGMOID -> LINEAR) gradients. Inputs: \"dAL, current_cache\". Outputs: \"grads[\"dAL-1\"], grads[\"dWL\"], grads[\"dbL\"]\n",
    "    ### START CODE HERE ### (approx. 2 lines)\n",
    "    current_cache = caches[-1]\n",
    "    grads[\"dA\" + str(L-1)], grads[\"dW\" + str(L)], grads[\"db\" + str(L)] = act_back(dAL,current_cache,\"sigmoid\")\n",
    "    ### END CODE HERE ###\n",
    "    # Loop from l=L-2 to l=0\n",
    "    for l in reversed(range(L-1)):\n",
    "        # lth layer: (RELU -> LINEAR) gradients.\n",
    "        # Inputs: \"grads[\"dA\" + str(l + 1)], current_cache\". Outputs: \"grads[\"dA\" + str(l)] , grads[\"dW\" + str(l + 1)] , grads[\"db\" + str(l + 1)] \n",
    "        ### START CODE HERE ### (approx. 5 lines)\n",
    "        current_cache = caches[l]\n",
    "        dA_prev_temp, dW_temp, db_temp = act_back(grads[\"dA\" + str(l+1)],current_cache,\"relu\")\n",
    "        grads[\"dA\" + str(l)] = dA_prev_temp\n",
    "        grads[\"dW\" + str(l + 1)] = dW_temp\n",
    "        grads[\"db\" + str(l + 1)] = db_temp\n",
    "        ### END CODE HERE ###\n",
    "\n",
    "    return grads"
   ]
  },
  {
   "cell_type": "code",
   "execution_count": 266,
   "metadata": {
    "collapsed": true
   },
   "outputs": [],
   "source": [
    "def update_params(params, grads, learning_rate):\n",
    "    L = len(params) // 2\n",
    "    \n",
    "    for l in range(L):\n",
    "        params[\"W\" + str(l + 1)] = params[\"W\" + str(l + 1)] - learning_rate * grads[\"dW\" + str(l + 1)]\n",
    "        params[\"b\" + str(l + 1)] = params[\"b\" + str(l + 1)] - learning_rate * grads[\"db\" + str(l + 1)]\n",
    "    return params"
   ]
  },
  {
   "cell_type": "code",
   "execution_count": 333,
   "metadata": {
    "collapsed": true
   },
   "outputs": [],
   "source": [
    "def normalize_data(X_train):\n",
    "\n",
    "    X = np.copy(X_train)\n",
    "    X_n = { \"X_p1\" : np.reshape(X[:,0]/np.amax(X[:,0]),(-1,1)),\n",
    "            \"X_p2\" : X[:, 1:4],\n",
    "            \"X_p3\" : np.reshape(X[:,4]/np.amax(X[:,1]),(-1,1)),\n",
    "            \"X_p4\" : X[:,5:11] / 12,\n",
    "            \"X_p5\" : X[:, 11:17] / np.amax(X[:, 11:17]),\n",
    "            \"X_p6\" : X[:,17:23] / np.amax(X[:,17:22])}\n",
    "    \n",
    "\n",
    "        \n",
    "    \n",
    "    X_new = X_n[\"X_p1\"]\n",
    "    \n",
    "    \n",
    "    for i in range(2, 7):\n",
    "        X_new = np.concatenate((X_new,X_n[\"X_p\" + str(i)] ),axis = 1)\n",
    "    \n",
    "    return X_new\n",
    "    "
   ]
  },
  {
   "cell_type": "code",
   "execution_count": 1,
   "metadata": {
    "collapsed": true
   },
   "outputs": [],
   "source": [
    "def batch(X_train, y_train):\n",
    "    X_temp = X_train[0,:]\n",
    "\n",
    "    k = 0\n",
    "    for i in range(len(y_train)):\n",
    "        if 1 == y_train[i]:\n",
    "            X_temp = np.concatenate((X_temp, X_train[i,:]), axis = 0)\n",
    "            k += 1\n",
    "    X_temp = np.reshape(X_temp, (np.sum(y_train)+1,-1))\n",
    "    y_temp = np.ones((X_temp.shape[1],1))\n",
    "    return X_temp, y_temp\n",
    "        "
   ]
  },
  {
   "cell_type": "code",
   "execution_count": 439,
   "metadata": {
    "collapsed": true
   },
   "outputs": [],
   "source": [
    "def model(X_train,  y_train):\n",
    "\n",
    "    #len(y_train) full sample size = 22500\n",
    "    X_train_t, y_train_t  = batch(X_train,y_train)\n",
    "    \n",
    "    sample_true = 0\n",
    "    sample_size_used = 2500\n",
    "    \n",
    "    X_train_tn = X_train_t[0:sample_true,:]\n",
    "    X_trainn = X_train[0:sample_size_used,:]\n",
    "    \n",
    "    X_n = np.concatenate((X_train_tn, X_trainn), axis = 0)\n",
    "\n",
    "    X_normalized = normalize_data(X_n)\n",
    "    X_n = X_normalized.T\n",
    "    \n",
    "    y_train = y_train[0:sample_size_used]\n",
    "    y_train = np.concatenate((np.ones((sample_true,1)),np.reshape(y_train,(-1,1))),axis = 0)\n",
    "    \n",
    "    \n",
    "\n",
    "    print_cost= True\n",
    "\n",
    "    layersdims = (X_train.shape[1], 20,7,5,1)\n",
    "    learning_rate = 0.1\n",
    "    num_iterations = 1000\n",
    "    \n",
    "    costs = []\n",
    "    \n",
    "    params = init_params(layersdims)\n",
    "\n",
    "    \n",
    "    for i in range(num_iterations):\n",
    "        \n",
    "  \n",
    "\n",
    "        AL, caches = compute_forward(X_n,params)\n",
    "        if i == 1:\n",
    "            print(AL)\n",
    "        cost_s = cost(AL,y_train)\n",
    "\n",
    "        grads = nn_back(AL,y_train,caches)\n",
    "\n",
    "\n",
    "\n",
    "\n",
    "\n",
    "        \n",
    "        params = update_params(params, grads, learning_rate)\n",
    "        \n",
    "\n",
    "        \n",
    "        if print_cost and i % 100 == 0:\n",
    "            print (\"Cost after iteration %i: %f\" %(i, cost_s))\n",
    "        if print_cost and i % 100 == 0:\n",
    "            costs.append(cost_s)\n",
    "\n",
    "    plt.plot(np.squeeze(costs))\n",
    "    plt.ylabel('cost')\n",
    "    plt.xlabel('iterations (per tens)')\n",
    "    plt.title(\"Learning rate =\" + str(learning_rate))\n",
    "    plt.show()\n",
    "    \n",
    "    return params"
   ]
  },
  {
   "cell_type": "code",
   "execution_count": 440,
   "metadata": {},
   "outputs": [
    {
     "name": "stdout",
     "output_type": "stream",
     "text": [
      "Cost after iteration 0: 4332170.535332\n",
      "[[ 0.49305048  0.49305045  0.49305047 ...,  0.4930505   0.49305048\n",
      "   0.49305045]]\n",
      "Cost after iteration 100: 3325508.564440\n",
      "Cost after iteration 200: 3309380.997701\n",
      "Cost after iteration 300: 3308936.702058\n",
      "Cost after iteration 400: 3308923.324372\n",
      "Cost after iteration 500: 3308922.915405\n",
      "Cost after iteration 600: 3308922.902870\n",
      "Cost after iteration 700: 3308922.902485\n",
      "Cost after iteration 800: 3308922.902474\n",
      "Cost after iteration 900: 3308922.902473\n"
     ]
    },
    {
     "data": {
      "image/png": "[encoded data removed]",
      "text/plain": [
       "<matplotlib.figure.Figure at 0x1278107c860>"
      ]
     },
     "metadata": {},
     "output_type": "display_data"
    }
   ],
   "source": [
    "solution = model(X_train,  y_train)"
   ]
  },
  {
   "cell_type": "code",
   "execution_count": 441,
   "metadata": {
    "collapsed": true
   },
   "outputs": [],
   "source": [
    "def predict(sol,X_test):\n",
    "    X_test = normalize_data(X_test)\n",
    "    X_test = X_test.T\n",
    "    AL, caches = compute_forward(X_test,sol)\n",
    "    \n",
    "    return np.round(AL.T)\n",
    "        \n",
    "    \n",
    "     \n",
    "    "
   ]
  },
  {
   "cell_type": "code",
   "execution_count": 442,
   "metadata": {
    "collapsed": true
   },
   "outputs": [],
   "source": [
    "y_hat = predict(solution,X_test)"
   ]
  },
  {
   "cell_type": "code",
   "execution_count": 459,
   "metadata": {
    "collapsed": true
   },
   "outputs": [],
   "source": [
    "def checkright(y_hat, y_test):\n",
    "    y = np.reshape(y_test, (-1,1))\n",
    "    ls = np.ndarray.tolist(y == y_hat)\n",
    "    k = 0\n",
    "    print(y == y_hat)\n",
    "    for i in ls:\n",
    "        if k< 3:\n",
    "            print(i)\n",
    "        if i:\n",
    "            k = k + 1\n",
    "    \n",
    "    print(k)\n"
   ]
  }
 ],
 "metadata": {
  "kernelspec": {
   "display_name": "Python 3",
   "language": "python",
   "name": "python3"
  },
  "language_info": {
   "codemirror_mode": {
    "name": "ipython",
    "version": 3
   },
   "file_extension": ".py",
   "mimetype": "text/x-python",
   "name": "python",
   "nbconvert_exporter": "python",
   "pygments_lexer": "ipython3",
   "version": "3.6.3"
  }
 },
 "nbformat": 4,
 "nbformat_minor": 2
}
